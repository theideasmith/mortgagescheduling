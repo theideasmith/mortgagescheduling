{
 "cells": [
  {
   "cell_type": "code",
   "execution_count": 8,
   "id": "dbe40caf",
   "metadata": {},
   "outputs": [],
   "source": [
    "import numpy as np"
   ]
  },
  {
   "cell_type": "code",
   "execution_count": 9,
   "id": "14949b26",
   "metadata": {},
   "outputs": [],
   "source": [
    "class Mortgage:\n",
    "    def __init__(self, r, principal, nperiods):\n",
    "        self.i = r/12;\n",
    "        self.P0 = principal\n",
    "        self.N = nperiods\n",
    "        self.M = self.yearly_payment();\n",
    "        \n",
    "    def yearly_payment(self):\n",
    "        return (self.P0*self.i*((1+self.i)**self.N)/ ((1+self.i)**self.N-1))\n",
    "    \n",
    "    def A(self,n):\n",
    "        return (self.P0*self.i*(1+self.i)**self.N)/((1+self.i)**self.N-1)-self.R(n)\n",
    "    \n",
    "    def p(self, n):\n",
    "        # return self.P0*(1+self.i)**n - self.M*(((1+self.i)n-1]/self.i)\n",
    "        return self.P0*(1+self.i)**n-(((1+self.i)**n-1)/self.i)*(self.P0*self.i*(1+self.i)**self.N)/((1+self.i)**self.N-1)\n",
    "        \n",
    "    def R(self, n):\n",
    "        return self.p(n-1)*self.i\n",
    "    \n",
    "    def PV(self,n):\n",
    "        return self.M/(1+self.i)**n\n",
    "    \n",
    "class ARMLoan(Mortgage):\n",
    "    def __init__(self,principal, nperiods,m,r1,r2):\n",
    "        \n",
    "        self.morty1p = Mortgage(r1,principal, nperiods);\n",
    "        self.morty1 = Mortgage(r1, principal - self.morty1p.p(m),m)\n",
    "        self.morty2 = Mortgage(r2,self.morty1p.p(m),nperiods-m);"
   ]
  },
  {
   "cell_type": "code",
   "execution_count": 10,
   "id": "a512855f",
   "metadata": {},
   "outputs": [],
   "source": [
    "import matplotlib.pyplot as plt\n",
    "\n",
    "class Mortgage:\n",
    "    def __init__(self, r, principal, nperiods):\n",
    "        self.i = r/12;\n",
    "        self.P0 = principal\n",
    "        self.N = nperiods\n",
    "        self.M = self.yearly_payment();\n",
    "        \n",
    "    def yearly_payment(self):\n",
    "        return (self.P0*self.i*((1+self.i)**self.N)/ ((1+self.i)**self.N-1))\n",
    "    \n",
    "    def A(self,n):\n",
    "        return (self.P0*self.i*(1+self.i)**self.N)/((1+self.i)**self.N-1)-self.R(n)\n",
    "    \n",
    "    def p(self, n):\n",
    "        # return self.P0*(1+self.i)**n - self.M*(((1+self.i)n-1]/self.i)\n",
    "        return self.P0*(1+self.i)**n-(((1+self.i)**n-1)/self.i)*(self.P0*self.i*(1+self.i)**self.N)/((1+self.i)**self.N-1)\n",
    "        \n",
    "    def R(self, n):\n",
    "        return self.p(n-1)*self.i\n",
    "    \n",
    "    def PV(self,n):\n",
    "        return self.M/(1+self.i)**n\n",
    "    \n",
    "class ARMLoan(Mortgage):\n",
    "    def __init__(self,principal, nperiods,m,r1,r2):\n",
    "        \n",
    "        self.morty1p = Mortgage(r1,principal, nperiods);\n",
    "        self.morty1 = Mortgage(r1, principal - self.morty1p.p(m),m)\n",
    "        self.morty2 = Mortgage(r2,self.morty1p.p(m),nperiods-m);\n",
    "Y=100\n",
    "m=70\n",
    "army = ARMLoan(100000,Y,m,0.02,0.04)\n",
    "\n",
    "As1 = [army.morty1.A(n) for n in range(1,m+1)]\n",
    "Rs1 = [army.morty1.R(n) for n in range(1,m+1)]\n",
    "PVs1 = [army.morty1.PV(n) for n in range(1,m+1)]\n",
    "Ms1 = [army.morty1.A(n) + army.morty1.R(n) for n in range(1,m+1)]\n",
    "\n",
    "As2 = [army.morty2.A(n) for n in range(1,Y-m+1)]\n",
    "Rs2 = [army.morty2.R(n) for n in range(1,Y-m+1)]\n",
    "PVs2 = [army.morty2.PV(n) for n in range(1,Y-m+1)]\n",
    "Ms2 = [army.morty2.A(n) + army.morty2.R(n) for n in range(1,Y-m+1)]\n",
    "\n",
    "As = As1 + As2\n",
    "Rs = Rs1 + Rs2\n",
    "PVs = PVs1 + PVs2\n",
    "Ms = Ms1 + Ms2\n"
   ]
  },
  {
   "cell_type": "code",
   "execution_count": 11,
   "id": "a1b999b8",
   "metadata": {},
   "outputs": [
    {
     "name": "stdout",
     "output_type": "stream",
     "text": [
      "68232.90725792931\n"
     ]
    }
   ],
   "source": [
    "print(army.morty1.P0)"
   ]
  },
  {
   "cell_type": "code",
   "execution_count": 12,
   "id": "9ec90644",
   "metadata": {},
   "outputs": [
    {
     "name": "stdout",
     "output_type": "stream",
     "text": [
      "31767.092742070687\n"
     ]
    }
   ],
   "source": [
    "print(army.morty2.P0)"
   ]
  },
  {
   "cell_type": "code",
   "execution_count": 13,
   "id": "a15ba272",
   "metadata": {},
   "outputs": [
    {
     "name": "stdout",
     "output_type": "stream",
     "text": [
      "99999.9999999977\n"
     ]
    }
   ],
   "source": [
    "print(sum(PVs1)+sum(PVs2))"
   ]
  },
  {
   "cell_type": "code",
   "execution_count": 14,
   "id": "43f6cef7",
   "metadata": {},
   "outputs": [
    {
     "name": "stdout",
     "output_type": "stream",
     "text": [
      "100000.0\n"
     ]
    }
   ],
   "source": [
    "print(army.morty2.P0+army.morty1.P0)"
   ]
  },
  {
   "cell_type": "code",
   "execution_count": 19,
   "id": "9d95e5a9",
   "metadata": {},
   "outputs": [
    {
     "name": "stdout",
     "output_type": "stream",
     "text": [
      "The total interest payments were 5782.104365704474\n",
      "The total amortization payments were 99999.99999999772\n",
      "The total payments(A+R) was 105782.10436570205\n",
      "Present value sum PVs: 99999.99999999767\n"
     ]
    },
    {
     "data": {
      "image/png": "[encoded data removed]",
      "text/plain": [
       "<Figure size 640x480 with 1 Axes>"
      ]
     },
     "metadata": {},
     "output_type": "display_data"
    }
   ],
   "source": [
    "print(\"The total interest payments were \"+ str(sum(Rs)))\n",
    "print(\"The total amortization payments were \" + str(sum(As)))\n",
    "print(\"The total payments(A+R) was \" + str(sum(Ms)))\n",
    "print(\"Present value sum PVs: \" + str(sum(PVs)))\n",
    "plt.plot(range(1,Y+1),As, label=\"A(n)\")\n",
    "plt.plot(range(1,Y+1),Rs, label=\"R(n)\")\n",
    "plt.plot(range(1,Y+1),Ms, label=\"C\")\n",
    "plt.legend()\n",
    "plt.title(\"ARM m=70, N=100, $r_1=0.02, r_2 = 0.04$, $P=100000$\")\n",
    "plt.savefig(\"ARM.png\")"
   ]
  },
  {
   "cell_type": "code",
   "execution_count": 85,
   "id": "93440184",
   "metadata": {},
   "outputs": [
    {
     "data": {
      "text/plain": [
       "101031.81341143535"
      ]
     },
     "execution_count": 85,
     "metadata": {},
     "output_type": "execute_result"
    }
   ],
   "source": [
    "sum(As)"
   ]
  },
  {
   "cell_type": "code",
   "execution_count": 234,
   "id": "0c0f2777",
   "metadata": {},
   "outputs": [
    {
     "name": "stdout",
     "output_type": "stream",
     "text": [
      "The total interest payments were 5166.56031946629\n",
      "The total amortization payments were 99999.99999999767\n",
      "The total payments(A+R) was 105166.56031946391\n",
      "Total present value sum(PV): 99999.99999999766\n"
     ]
    }
   ],
   "source": [
    "import matplotlib.pyplot as plt\n",
    "Y = 60\n",
    "morty = Mortgage(0.02, 100000.0, Y)\n",
    "As = [morty.A(n) for n in range(1,Y+1)]\n",
    "Rs = [morty.R(n) for n in range(1,Y+1)]\n",
    "PVs = [morty.PV(n) for n in range(1,Y+1)]\n",
    "Ms = [morty.A(n) + morty.R(n) for n in range(1,Y+1)]\n",
    "print(\"The total interest payments were \"+ str(sum(Rs)))\n",
    "print(\"The total amortization payments were \" + str(sum(As)))\n",
    "print(\"The total payments(A+R) was \" + str(sum(Ms)))\n",
    "print(\"Total present value sum(PV): \" + str(sum(PVs)))"
   ]
  },
  {
   "cell_type": "code",
   "execution_count": 20,
   "id": "935bec43",
   "metadata": {
    "scrolled": false
   },
   "outputs": [
    {
     "data": {
      "text/plain": [
       "Text(0.5, 1.0, 'Payments for  $i=0.02, P=100000, N=100$')"
      ]
     },
     "execution_count": 20,
     "metadata": {},
     "output_type": "execute_result"
    },
    {
     "data": {
      "image/png": "[encoded data removed]",
      "text/plain": [
       "<Figure size 640x480 with 1 Axes>"
      ]
     },
     "metadata": {},
     "output_type": "display_data"
    }
   ],
   "source": [
    "plt.plot(range(1,Y+1),As, label=\"A(n)\")\n",
    "plt.plot(range(1,Y+1),Rs, label=\"R(n)\")\n",
    "plt.plot(range(1,Y+1),Ms, label=\"C\")\n",
    "plt.plot(range(1,Y+1),PVs, label=\"Present Values\")\n",
    "plt.legend()\n",
    "plt.title(\"Payments for  $i=\"+str(0.02)+\", P=100000, N=100$\")"
   ]
  },
  {
   "cell_type": "code",
   "execution_count": 247,
   "id": "1ecf8033",
   "metadata": {},
   "outputs": [
    {
     "data": {
      "text/plain": [
       "[1749.8595727032273,\n",
       " 1746.9479927153682,\n",
       " 1744.0412572865573,\n",
       " 1741.1393583559639,\n",
       " 1738.2422878761702,\n",
       " 1735.3500378131482,\n",
       " 1732.4626001462377,\n",
       " 1729.5799668681243,\n",
       " 1726.7021299848163,\n",
       " 1723.8290815156233,\n",
       " 1720.9608134931348,\n",
       " 1718.097317963196,\n",
       " 1715.2385869848877,\n",
       " 1712.3846126305036,\n",
       " 1709.5353869855278,\n",
       " 1706.690902148613,\n",
       " 1703.8511502315605,\n",
       " 1701.016123359295,\n",
       " 1698.1858136698452,\n",
       " 1695.360213314321,\n",
       " 1692.5393144568932,\n",
       " 1689.7231092747681,\n",
       " 1686.9115899581714,\n",
       " 1684.1047487103208,\n",
       " 1681.3025777474083,\n",
       " 1678.5050692985774,\n",
       " 1675.7122156059006,\n",
       " 1672.92400892436,\n",
       " 1670.1404415218237,\n",
       " 1667.3615056790254,\n",
       " 1664.5871936895426,\n",
       " 1661.8174978597763,\n",
       " 1659.052410508928,\n",
       " 1656.2919239689797,\n",
       " 1653.5360305846716,\n",
       " 1650.7847227134826,\n",
       " 1648.0379927256063,\n",
       " 1645.2958330039332,\n",
       " 1642.5582359440266,\n",
       " 1639.8251939541026,\n",
       " 1637.0966994550108,\n",
       " 1634.3727448802106,\n",
       " 1631.653322675751,\n",
       " 1628.9384253002504,\n",
       " 1626.2280452248756,\n",
       " 1623.52217493332,\n",
       " 1620.8208069217837,\n",
       " 1618.123933698952,\n",
       " 1615.4315477859755,\n",
       " 1612.7436417164479,\n",
       " 1610.0602080363874,\n",
       " 1607.3812393042133,\n",
       " 1604.7067280907288,\n",
       " 1602.036666979097,\n",
       " 1599.371048564822,\n",
       " 1596.7098654557294,\n",
       " 1594.0531102719424,\n",
       " 1591.4007756458661,\n",
       " 1588.7528542221623,\n",
       " 1586.1093386577327]"
      ]
     },
     "execution_count": 247,
     "metadata": {},
     "output_type": "execute_result"
    }
   ],
   "source": []
  },
  {
   "cell_type": "markdown",
   "id": "141b1f50",
   "metadata": {},
   "source": [
    "The amortization and interest curves will sometimes intersect and sometimes not. It remains to be determined under what conditions the curves will "
   ]
  }
 ],
 "metadata": {
  "kernelspec": {
   "display_name": "Python 3 (ipykernel)",
   "language": "python",
   "name": "python3"
  },
  "language_info": {
   "codemirror_mode": {
    "name": "ipython",
    "version": 3
   },
   "file_extension": ".py",
   "mimetype": "text/x-python",
   "name": "python",
   "nbconvert_exporter": "python",
   "pygments_lexer": "ipython3",
   "version": "3.9.6"
  }
 },
 "nbformat": 4,
 "nbformat_minor": 5
}
